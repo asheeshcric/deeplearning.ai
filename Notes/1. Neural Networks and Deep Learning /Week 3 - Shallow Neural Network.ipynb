{
 "cells": [
  {
   "cell_type": "markdown",
   "metadata": {},
   "source": [
    "### 1. What is a Neural Network?"
   ]
  },
  {
   "cell_type": "markdown",
   "metadata": {},
   "source": [
    "![](https://i.ibb.co/d79YnGD/Screenshot-from-2019-04-17-15-58-08.png)"
   ]
  },
  {
   "cell_type": "markdown",
   "metadata": {},
   "source": [
    "- As shown in the above image, basically a neural network is a neuron (evaluated using Logistic Regression) repeated multiple times\n",
    "- In neural network notation, we don't count the input layer. So, the above shown neural network is a **\"2 layer NN\"**"
   ]
  },
  {
   "cell_type": "markdown",
   "metadata": {},
   "source": [
    "### 2. Neural Network Representation"
   ]
  },
  {
   "cell_type": "markdown",
   "metadata": {},
   "source": [
    "![](https://i.ibb.co/T0VYmkT/Screenshot-from-2019-04-17-16-06-35.png)"
   ]
  },
  {
   "cell_type": "markdown",
   "metadata": {},
   "source": [
    "- The hidden layer has four neurons, so the output or activation from the hidden layer is a column vector with four single valued rows and is denoted by **a[1]** as it is the first layer of the network\n",
    "- In logistic regression, when input is X:\n",
    "    - z = wx + b\n",
    "    - a = sigmoid(x)\n",
    "    - yhat = a (output of the neuron/layer)\n",
    "    - **Size and dimension of the layers depends on the number of neuron contained by the layer**"
   ]
  }
 ],
 "metadata": {
  "kernelspec": {
   "display_name": "asheesh",
   "language": "python",
   "name": "asheesh"
  },
  "language_info": {
   "codemirror_mode": {
    "name": "ipython",
    "version": 3
   },
   "file_extension": ".py",
   "mimetype": "text/x-python",
   "name": "python",
   "nbconvert_exporter": "python",
   "pygments_lexer": "ipython3",
   "version": "3.6.7"
  }
 },
 "nbformat": 4,
 "nbformat_minor": 2
}
