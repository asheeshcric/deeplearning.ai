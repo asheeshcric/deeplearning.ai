{
 "cells": [
  {
   "cell_type": "markdown",
   "metadata": {},
   "source": [
    "### 9. Normalizing Inputs"
   ]
  },
  {
   "cell_type": "markdown",
   "metadata": {},
   "source": [
    "- Before training a neural network, it is essential to normalize your input training set\n",
    "- It makes the elongation between the feature axes of the dataset uniform, resulting in zero mean and unit standard deviation\n",
    "\n",
    "![](https://i.ibb.co/0qQt5jH/Screenshot-from-2019-05-24-09-40-00.png)\n",
    "\n",
    "- **Why do we need normalization?**\n",
    "    - It shrinks the cost function of the network as shown in the image below\n",
    "    - This helps the model to learn faster even at a low learning rate\n",
    "    - It also helps in easy and faster optimization\n",
    "\n",
    "![](https://i.ibb.co/TqqDZxR/Screenshot-from-2019-05-24-09-43-38.png)"
   ]
  },
  {
   "cell_type": "markdown",
   "metadata": {},
   "source": [
    "### 10. Vanishing and Exploding Gradients"
   ]
  },
  {
   "cell_type": "markdown",
   "metadata": {},
   "source": [
    "- For very deep neural networks, the activations can exponentially rise or diminish resulting in either exploding or vanishing gradients when backpropagating through the layers\n",
    "- The **vanishing gradient** problem decays information as it goes deep into the network, making the network to never converge on a good solution\n",
    "    - Neurons in the earlier layers learn more slowly than the ones in the latter layers\n",
    "- The **exploding gradient** problem on the other hand makes the gradient bigger and bigger, and as a result forces the network to diverge\n",
    "    - In this case, the earlier layers explode with very large gradients, making the model useless\n",
    "    \n",
    "![](https://i.ibb.co/MNqQW13/Screenshot-from-2019-05-24-09-59-36.png)"
   ]
  },
  {
   "cell_type": "markdown",
   "metadata": {},
   "source": [
    "### 11. Weight Initialization for Deep Neural Networks"
   ]
  },
  {
   "cell_type": "markdown",
   "metadata": {},
   "source": [
    "- Initializing weights W to zero\n",
    "    - We know that if we initialize all the weights to zero, our network acts like a linear model as all the layers basically learn the same thing. This makes the model just a linear combination of layers\n",
    "    - So, the most important thing is to not initialize all the weights to zero and use a random initialization approach\n",
    "    \n",
    "- Initializing weights randomly\n",
    "    - Although this may sound an appropriate approach to initialize the weights of a network, in some conditions (when proper activations are not used), it may lead to vanishing or exploding gradients\n",
    "    - So, this method cannot be considered bullet proof although it works most of the time with **RELU** activations\n",
    "    \n",
    "- Using some heuristic to initialize weights\n",
    "    - This is considered as the proper way when it comes to weight initialization of deep neural networks\n",
    "    - We can use some heuristics from the model to assign the weights of the layers according to the activation function used in a layer\n",
    "    - The images below show how we should actually initialize weights in case of **RELU**, **tanh**, and other activations\n",
    "    \n",
    "![](https://i.ibb.co/nCsYSMB/Screenshot-from-2019-05-25-09-07-09.png)\n",
    "\n",
    "\n",
    "- **NOTE:** Here, *\"size_l\"* refers to the number of nodes in the lth layer, i.e. *n[l]*\n",
    "\n",
    "![](https://i.ibb.co/TRj2GyG/Screenshot-from-2019-05-25-09-25-36.png)"
   ]
  },
  {
   "cell_type": "markdown",
   "metadata": {},
   "source": [
    "### 12. Numerical Approximation of Gradients"
   ]
  },
  {
   "cell_type": "markdown",
   "metadata": {},
   "source": [
    "### 13. Gradient Checking and Implementation"
   ]
  }
 ],
 "metadata": {
  "kernelspec": {
   "display_name": "asheesh",
   "language": "python",
   "name": "asheesh"
  },
  "language_info": {
   "codemirror_mode": {
    "name": "ipython",
    "version": 3
   },
   "file_extension": ".py",
   "mimetype": "text/x-python",
   "name": "python",
   "nbconvert_exporter": "python",
   "pygments_lexer": "ipython3",
   "version": "3.6.7"
  }
 },
 "nbformat": 4,
 "nbformat_minor": 2
}
