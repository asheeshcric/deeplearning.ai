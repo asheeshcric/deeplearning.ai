{
 "cells": [
  {
   "cell_type": "markdown",
   "metadata": {},
   "source": [
    "## 1. Binary Classification"
   ]
  },
  {
   "cell_type": "markdown",
   "metadata": {},
   "source": [
    "![](https://i.ibb.co/LzfPgPC/Screenshot-from-2019-04-16-06-58-34.png)"
   ]
  },
  {
   "cell_type": "markdown",
   "metadata": {},
   "source": [
    "## 2. Logistic Regression"
   ]
  },
  {
   "cell_type": "markdown",
   "metadata": {},
   "source": [
    "![](https://i.ibb.co/JKzpNgV/Screenshot-from-2019-04-16-06-52-21.png)\n",
    "\n",
    "- In the following figure, the loss function (L) computes the error for a single training example; the cost function (J) is the average of the loss functions of the entire training set.\n",
    "\n",
    "![](https://i.ibb.co/QPJdHby/Screenshot-from-2019-04-16-07-03-26.png)"
   ]
  },
  {
   "cell_type": "markdown",
   "metadata": {},
   "source": [
    "## 3. Gradient Descent\n",
    "- Gradient descent is a method to determine the optimum values of the parameters using slopes, derivatives and a learning rate\n",
    "\n",
    "![](https://i.ibb.co/yBZfDrg/Screenshot-from-2019-04-16-07-10-12.png)\n",
    "\n",
    "\n",
    "- For logistic regression, the parameters **w & b** are optimized as follows\n",
    "\n",
    "![](https://i.ibb.co/P9S0CWJ/Screenshot-from-2019-04-16-07-12-56.png)"
   ]
  }
 ],
 "metadata": {
  "kernelspec": {
   "display_name": "asheesh",
   "language": "python",
   "name": "asheesh"
  },
  "language_info": {
   "codemirror_mode": {
    "name": "ipython",
    "version": 3
   },
   "file_extension": ".py",
   "mimetype": "text/x-python",
   "name": "python",
   "nbconvert_exporter": "python",
   "pygments_lexer": "ipython3",
   "version": "3.6.7"
  }
 },
 "nbformat": 4,
 "nbformat_minor": 2
}
