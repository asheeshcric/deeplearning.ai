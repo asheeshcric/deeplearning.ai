{
 "cells": [
  {
   "cell_type": "markdown",
   "metadata": {},
   "source": [
    "## 1. Binary Classification"
   ]
  },
  {
   "cell_type": "markdown",
   "metadata": {},
   "source": [
    "![](https://i.ibb.co/LzfPgPC/Screenshot-from-2019-04-16-06-58-34.png)"
   ]
  },
  {
   "cell_type": "markdown",
   "metadata": {},
   "source": [
    "## 2. Logistic Regression"
   ]
  },
  {
   "cell_type": "markdown",
   "metadata": {},
   "source": [
    "![](https://i.ibb.co/JKzpNgV/Screenshot-from-2019-04-16-06-52-21.png)\n",
    "\n",
    "- In the following figure, the loss function (L) computes the error for a single training example; the cost function (J) is the average of the loss functions of the entire training set.\n",
    "\n",
    "![](https://i.ibb.co/QPJdHby/Screenshot-from-2019-04-16-07-03-26.png)"
   ]
  },
  {
   "cell_type": "markdown",
   "metadata": {},
   "source": [
    "## 3. Gradient Descent\n",
    "- Gradient descent is a method to determine the optimum values of the parameters using slopes, derivatives and a learning rate\n",
    "\n",
    "![](https://i.ibb.co/yBZfDrg/Screenshot-from-2019-04-16-07-10-12.png)\n",
    "\n",
    "\n",
    "- For logistic regression, the parameters **w & b** are optimized as follows, where **alpha** is the learning rate\n",
    "\n",
    "![](https://i.ibb.co/P9S0CWJ/Screenshot-from-2019-04-16-07-12-56.png)"
   ]
  },
  {
   "cell_type": "markdown",
   "metadata": {},
   "source": [
    "## 4. Computing Derivatives for Gradient Descent"
   ]
  },
  {
   "cell_type": "markdown",
   "metadata": {},
   "source": [
    "- The following computation graph is made by breaking down the formula for evaluating the cost function of the model\n",
    "    - Forward pass: Evaluation of the cost function\n",
    "    - Backward pass: Evaluation of the authenticity of the model and also the best fit parameters by finding the derivative of final output w.r.t different model variables\n",
    "- One backward pass in a computation graph gives us the derivative of the current variable with respect to the one that we are passing to.\n",
    "- e.g. Moving from block *J to block v*, we find the derivative of J w.r.t. v\n",
    "- We apply chain rule which propagating back through the graph"
   ]
  },
  {
   "cell_type": "markdown",
   "metadata": {},
   "source": [
    "![](https://i.ibb.co/WzMs0Qm/Screenshot-from-2019-04-16-07-34-44.png)"
   ]
  },
  {
   "cell_type": "markdown",
   "metadata": {},
   "source": [
    "## 5. Logistic Regression Derivatives"
   ]
  },
  {
   "cell_type": "markdown",
   "metadata": {},
   "source": [
    "- The following image shows the gradient descent for Logistic regression method using only one data point\n",
    "    - That is why, we are taking loss function (L) instead of the cost function (J) as we only have one data point for now\n",
    "- After we calculate \"da=dL/da\" & \"dz=dL/dz\", we can use the following formula to get the change in w1 and w2:\n",
    "    - w1 = w1 - alpha * dw1\n",
    "    - w2 = w2 - alpha * dw2"
   ]
  },
  {
   "cell_type": "markdown",
   "metadata": {},
   "source": [
    "![](https://i.ibb.co/DYKX1tZ/Screenshot-from-2019-04-16-14-16-04.png)"
   ]
  },
  {
   "cell_type": "markdown",
   "metadata": {},
   "source": [
    "## 6. Logistic Regression on \"m\" examples"
   ]
  },
  {
   "cell_type": "markdown",
   "metadata": {},
   "source": [
    "- Algorithm to implement logistic regression for a dataset (m input samples) with 2 features only\n",
    "\n",
    "\n",
    "![](https://i.ibb.co/R49bBth/Screenshot-from-2019-04-16-14-27-23.png)"
   ]
  }
 ],
 "metadata": {
  "kernelspec": {
   "display_name": "asheesh",
   "language": "python",
   "name": "asheesh"
  },
  "language_info": {
   "codemirror_mode": {
    "name": "ipython",
    "version": 3
   },
   "file_extension": ".py",
   "mimetype": "text/x-python",
   "name": "python",
   "nbconvert_exporter": "python",
   "pygments_lexer": "ipython3",
   "version": "3.6.7"
  }
 },
 "nbformat": 4,
 "nbformat_minor": 2
}
