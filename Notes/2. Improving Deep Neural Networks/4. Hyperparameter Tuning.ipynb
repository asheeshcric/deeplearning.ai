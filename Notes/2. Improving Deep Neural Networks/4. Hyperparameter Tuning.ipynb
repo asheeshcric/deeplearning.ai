{
 "cells": [
  {
   "cell_type": "markdown",
   "metadata": {},
   "source": [
    "One way to make your deep learning model more accurate and generate better results is to tune your model's hyperparameters.\n",
    "By doing so, you can speed up your training process and optimize the outputs provided by the model. In this post, we try\n",
    "to figure out some ways to make sure that we choose the right hyperparameters every time we train a deep neural network.\n"
   ]
  },
  {
   "cell_type": "markdown",
   "metadata": {},
   "source": [
    "### 1. Tuning Process"
   ]
  },
  {
   "cell_type": "markdown",
   "metadata": {},
   "source": [
    "- The most common hyperparameters one needs to choose for training their neural networks are as follows:\n",
    "    - Learning rate (alpha: \"$\\alpha$\")\n",
    "    - Mini-batch size\n",
    "    - Number of hidden units for each layer\n",
    "    - Momentum term (beta: \"$\\beta$\"); generally $\\beta$ = 0.9 is taken\n",
    "    - Number of layers\n",
    "    - Learning rate decay (Changing $\\alpha$ as the learning progresses)\n",
    "    - For Adam Optimizers: ($\\beta_{1}$, $\\beta_{2}$, and $\\epsilon$)\n",
    "        - Generally, $\\beta_{1}$ = 0.9, $\\beta_{2}$ = 0.999, and $\\epsilon$ = $10^{-8}$\n",
    "        \n",
    "- The hyperparameters are listed in the order of their significance (in tuning) while training a deep neural network, but the order may vary according to the requirements\n",
    "\n",
    "- When tuning hyperparameters, try to sample the values of the parameters in random so that we can find the ones that perform the best for our model\n"
   ]
  },
  {
   "cell_type": "markdown",
   "metadata": {},
   "source": [
    "### 2. Using an appropriate scale to pick hyperparameters"
   ]
  },
  {
   "cell_type": "markdown",
   "metadata": {},
   "source": [
    "- In cases when we try to sample values for a hyperparameter like **learning_rate ($\\alpha$)**, we need to be smart while taking random values at different scales\n",
    "- For example, the acceptable value for the **learning_rate** can be anything in between 0 and 1, but we know that the values that are less than **0.1** are more plausible that the higher values\n",
    "    - In such case, we can divide the scale from 0 to 1 logarithmically and then take random values from each scale\n",
    "        - e.g. r = -4 * np.random.rand();   r --> [-4, 0]\n",
    "        - $\\alpha$ = $10^{r}$; $\\alpha$ --> [$10^{-4}$, 1]"
   ]
  },
  {
   "cell_type": "markdown",
   "metadata": {},
   "source": [
    "### 3. Assuring a model's authenticity"
   ]
  },
  {
   "cell_type": "markdown",
   "metadata": {},
   "source": [
    "- It is usually wise to re-test your model parameters in cycles as intuitions do get stale with time\n",
    "- As the model becomes larger, the optimal hyperparameters may change with time\n",
    "- So, it is important to test your model every once in a while with its parameters\n",
    "![](https://i.ibb.co/qCwYykr/Screenshot-from-2019-07-21-14-33-24.png)"
   ]
  }
 ],
 "metadata": {
  "kernelspec": {
   "display_name": "asheesh",
   "language": "python",
   "name": "asheesh"
  },
  "language_info": {
   "codemirror_mode": {
    "name": "ipython",
    "version": 3
   },
   "file_extension": ".py",
   "mimetype": "text/x-python",
   "name": "python",
   "nbconvert_exporter": "python",
   "pygments_lexer": "ipython3",
   "version": "3.6.7"
  }
 },
 "nbformat": 4,
 "nbformat_minor": 2
}
